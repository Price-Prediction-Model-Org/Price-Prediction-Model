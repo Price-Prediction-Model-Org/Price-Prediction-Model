{
  "cells": [
    {
      "cell_type": "markdown",
      "metadata": {
        "id": "LLb8ojthlqOA"
      },
      "source": [
        "### This Notebook is for testing purposes only. TESLA stock prediction model is taken from the following link\n",
        "\n",
        "https://towardsdatascience.com/lstm-time-series-forecasting-predicting-stock-prices-using-an-lstm-model-6223e9644a2f"
      ]
    },
    {
      "cell_type": "code",
      "source": [
        "from google.colab import drive\n",
        "drive.mount('/content/drive')"
      ],
      "metadata": {
        "id": "pTO3-vx4m-63",
        "outputId": "a47dbc38-d9cd-456f-cb60-95985f89caa6",
        "colab": {
          "base_uri": "https://localhost:8080/"
        }
      },
      "execution_count": 3,
      "outputs": [
        {
          "output_type": "stream",
          "name": "stdout",
          "text": [
            "Mounted at /content/drive\n"
          ]
        }
      ]
    },
    {
      "cell_type": "code",
      "execution_count": 4,
      "metadata": {
        "id": "VTAZRHR1lqOC",
        "outputId": "b777e81f-36d3-4570-ab26-eabc8d7f0e22",
        "colab": {
          "base_uri": "https://localhost:8080/",
          "height": 224
        }
      },
      "outputs": [
        {
          "output_type": "stream",
          "name": "stdout",
          "text": [
            "Number of rows and columns: (1259, 7)\n"
          ]
        },
        {
          "output_type": "execute_result",
          "data": {
            "text/html": [
              "\n",
              "  <div id=\"df-0d94150b-ded9-4156-bc6e-d950cab7dd5c\">\n",
              "    <div class=\"colab-df-container\">\n",
              "      <div>\n",
              "<style scoped>\n",
              "    .dataframe tbody tr th:only-of-type {\n",
              "        vertical-align: middle;\n",
              "    }\n",
              "\n",
              "    .dataframe tbody tr th {\n",
              "        vertical-align: top;\n",
              "    }\n",
              "\n",
              "    .dataframe thead th {\n",
              "        text-align: right;\n",
              "    }\n",
              "</style>\n",
              "<table border=\"1\" class=\"dataframe\">\n",
              "  <thead>\n",
              "    <tr style=\"text-align: right;\">\n",
              "      <th></th>\n",
              "      <th>Date</th>\n",
              "      <th>Open</th>\n",
              "      <th>High</th>\n",
              "      <th>Low</th>\n",
              "      <th>Close</th>\n",
              "      <th>Adj Close</th>\n",
              "      <th>Volume</th>\n",
              "    </tr>\n",
              "  </thead>\n",
              "  <tbody>\n",
              "    <tr>\n",
              "      <th>0</th>\n",
              "      <td>2015-07-10</td>\n",
              "      <td>52.444000</td>\n",
              "      <td>52.599998</td>\n",
              "      <td>51.563999</td>\n",
              "      <td>51.830002</td>\n",
              "      <td>51.830002</td>\n",
              "      <td>13054500</td>\n",
              "    </tr>\n",
              "    <tr>\n",
              "      <th>1</th>\n",
              "      <td>2015-07-13</td>\n",
              "      <td>52.450001</td>\n",
              "      <td>52.509998</td>\n",
              "      <td>51.209999</td>\n",
              "      <td>52.431999</td>\n",
              "      <td>52.431999</td>\n",
              "      <td>14801500</td>\n",
              "    </tr>\n",
              "    <tr>\n",
              "      <th>2</th>\n",
              "      <td>2015-07-14</td>\n",
              "      <td>52.419998</td>\n",
              "      <td>53.198002</td>\n",
              "      <td>52.102001</td>\n",
              "      <td>53.130001</td>\n",
              "      <td>53.130001</td>\n",
              "      <td>9538000</td>\n",
              "    </tr>\n",
              "    <tr>\n",
              "      <th>3</th>\n",
              "      <td>2015-07-15</td>\n",
              "      <td>53.348000</td>\n",
              "      <td>53.498001</td>\n",
              "      <td>52.416000</td>\n",
              "      <td>52.627998</td>\n",
              "      <td>52.627998</td>\n",
              "      <td>10108000</td>\n",
              "    </tr>\n",
              "    <tr>\n",
              "      <th>4</th>\n",
              "      <td>2015-07-16</td>\n",
              "      <td>52.844002</td>\n",
              "      <td>53.439999</td>\n",
              "      <td>52.632000</td>\n",
              "      <td>53.335999</td>\n",
              "      <td>53.335999</td>\n",
              "      <td>8080000</td>\n",
              "    </tr>\n",
              "  </tbody>\n",
              "</table>\n",
              "</div>\n",
              "      <button class=\"colab-df-convert\" onclick=\"convertToInteractive('df-0d94150b-ded9-4156-bc6e-d950cab7dd5c')\"\n",
              "              title=\"Convert this dataframe to an interactive table.\"\n",
              "              style=\"display:none;\">\n",
              "        \n",
              "  <svg xmlns=\"http://www.w3.org/2000/svg\" height=\"24px\"viewBox=\"0 0 24 24\"\n",
              "       width=\"24px\">\n",
              "    <path d=\"M0 0h24v24H0V0z\" fill=\"none\"/>\n",
              "    <path d=\"M18.56 5.44l.94 2.06.94-2.06 2.06-.94-2.06-.94-.94-2.06-.94 2.06-2.06.94zm-11 1L8.5 8.5l.94-2.06 2.06-.94-2.06-.94L8.5 2.5l-.94 2.06-2.06.94zm10 10l.94 2.06.94-2.06 2.06-.94-2.06-.94-.94-2.06-.94 2.06-2.06.94z\"/><path d=\"M17.41 7.96l-1.37-1.37c-.4-.4-.92-.59-1.43-.59-.52 0-1.04.2-1.43.59L10.3 9.45l-7.72 7.72c-.78.78-.78 2.05 0 2.83L4 21.41c.39.39.9.59 1.41.59.51 0 1.02-.2 1.41-.59l7.78-7.78 2.81-2.81c.8-.78.8-2.07 0-2.86zM5.41 20L4 18.59l7.72-7.72 1.47 1.35L5.41 20z\"/>\n",
              "  </svg>\n",
              "      </button>\n",
              "      \n",
              "  <style>\n",
              "    .colab-df-container {\n",
              "      display:flex;\n",
              "      flex-wrap:wrap;\n",
              "      gap: 12px;\n",
              "    }\n",
              "\n",
              "    .colab-df-convert {\n",
              "      background-color: #E8F0FE;\n",
              "      border: none;\n",
              "      border-radius: 50%;\n",
              "      cursor: pointer;\n",
              "      display: none;\n",
              "      fill: #1967D2;\n",
              "      height: 32px;\n",
              "      padding: 0 0 0 0;\n",
              "      width: 32px;\n",
              "    }\n",
              "\n",
              "    .colab-df-convert:hover {\n",
              "      background-color: #E2EBFA;\n",
              "      box-shadow: 0px 1px 2px rgba(60, 64, 67, 0.3), 0px 1px 3px 1px rgba(60, 64, 67, 0.15);\n",
              "      fill: #174EA6;\n",
              "    }\n",
              "\n",
              "    [theme=dark] .colab-df-convert {\n",
              "      background-color: #3B4455;\n",
              "      fill: #D2E3FC;\n",
              "    }\n",
              "\n",
              "    [theme=dark] .colab-df-convert:hover {\n",
              "      background-color: #434B5C;\n",
              "      box-shadow: 0px 1px 3px 1px rgba(0, 0, 0, 0.15);\n",
              "      filter: drop-shadow(0px 1px 2px rgba(0, 0, 0, 0.3));\n",
              "      fill: #FFFFFF;\n",
              "    }\n",
              "  </style>\n",
              "\n",
              "      <script>\n",
              "        const buttonEl =\n",
              "          document.querySelector('#df-0d94150b-ded9-4156-bc6e-d950cab7dd5c button.colab-df-convert');\n",
              "        buttonEl.style.display =\n",
              "          google.colab.kernel.accessAllowed ? 'block' : 'none';\n",
              "\n",
              "        async function convertToInteractive(key) {\n",
              "          const element = document.querySelector('#df-0d94150b-ded9-4156-bc6e-d950cab7dd5c');\n",
              "          const dataTable =\n",
              "            await google.colab.kernel.invokeFunction('convertToInteractive',\n",
              "                                                     [key], {});\n",
              "          if (!dataTable) return;\n",
              "\n",
              "          const docLinkHtml = 'Like what you see? Visit the ' +\n",
              "            '<a target=\"_blank\" href=https://colab.research.google.com/notebooks/data_table.ipynb>data table notebook</a>'\n",
              "            + ' to learn more about interactive tables.';\n",
              "          element.innerHTML = '';\n",
              "          dataTable['output_type'] = 'display_data';\n",
              "          await google.colab.output.renderOutput(dataTable, element);\n",
              "          const docLink = document.createElement('div');\n",
              "          docLink.innerHTML = docLinkHtml;\n",
              "          element.appendChild(docLink);\n",
              "        }\n",
              "      </script>\n",
              "    </div>\n",
              "  </div>\n",
              "  "
            ],
            "text/plain": [
              "         Date       Open       High        Low      Close  Adj Close    Volume\n",
              "0  2015-07-10  52.444000  52.599998  51.563999  51.830002  51.830002  13054500\n",
              "1  2015-07-13  52.450001  52.509998  51.209999  52.431999  52.431999  14801500\n",
              "2  2015-07-14  52.419998  53.198002  52.102001  53.130001  53.130001   9538000\n",
              "3  2015-07-15  53.348000  53.498001  52.416000  52.627998  52.627998  10108000\n",
              "4  2015-07-16  52.844002  53.439999  52.632000  53.335999  53.335999   8080000"
            ]
          },
          "metadata": {},
          "execution_count": 4
        }
      ],
      "source": [
        "import math\n",
        "import matplotlib.pyplot as plt\n",
        "import tensorflow as tf\n",
        "import pandas as pd\n",
        "import numpy as np\n",
        "from tensorflow.keras.models import Sequential\n",
        "from tensorflow.keras.layers import Dense\n",
        "from tensorflow.keras.layers import LSTM\n",
        "from tensorflow.keras.layers import Dropout\n",
        "from tensorflow.keras.layers import *\n",
        "from sklearn.preprocessing import MinMaxScaler, StandardScaler\n",
        "from sklearn.metrics import mean_squared_error\n",
        "from sklearn.metrics import mean_absolute_error\n",
        "from sklearn.model_selection import train_test_split\n",
        "from tensorflow.keras.callbacks import EarlyStopping\n",
        "\n",
        "\n",
        "df=pd.read_csv(\"/content/drive/MyDrive/TSLA.csv\")\n",
        "print(\"Number of rows and columns:\", df.shape)\n",
        "df.head(5)"
      ]
    },
    {
      "cell_type": "code",
      "source": [
        ""
      ],
      "metadata": {
        "id": "RDBv2Lfrl9Up",
        "outputId": "7aace6ef-565d-4f73-969b-03bdc019c3db",
        "colab": {
          "base_uri": "https://localhost:8080/"
        }
      },
      "execution_count": 5,
      "outputs": [
        {
          "output_type": "stream",
          "name": "stdout",
          "text": [
            "Drive already mounted at /content/drive; to attempt to forcibly remount, call drive.mount(\"/content/drive\", force_remount=True).\n"
          ]
        }
      ]
    },
    {
      "cell_type": "code",
      "execution_count": 5,
      "metadata": {
        "id": "FsJCbWC0lqOE"
      },
      "outputs": [],
      "source": [
        "# split the data into training and test sets\n",
        "\n",
        "training_set = df.iloc[:800, 1:2].values\n",
        "test_set = df.iloc[800:, 1:2].values"
      ]
    },
    {
      "cell_type": "code",
      "execution_count": 6,
      "metadata": {
        "id": "393y4C7ElqOF",
        "outputId": "89d97100-5eb5-40a3-b855-c6663496c7b6",
        "colab": {
          "base_uri": "https://localhost:8080/",
          "height": 424
        }
      },
      "outputs": [
        {
          "output_type": "execute_result",
          "data": {
            "text/html": [
              "\n",
              "  <div id=\"df-faec66c8-1c3e-435b-ab12-16cf9fbc06c3\">\n",
              "    <div class=\"colab-df-container\">\n",
              "      <div>\n",
              "<style scoped>\n",
              "    .dataframe tbody tr th:only-of-type {\n",
              "        vertical-align: middle;\n",
              "    }\n",
              "\n",
              "    .dataframe tbody tr th {\n",
              "        vertical-align: top;\n",
              "    }\n",
              "\n",
              "    .dataframe thead th {\n",
              "        text-align: right;\n",
              "    }\n",
              "</style>\n",
              "<table border=\"1\" class=\"dataframe\">\n",
              "  <thead>\n",
              "    <tr style=\"text-align: right;\">\n",
              "      <th></th>\n",
              "      <th>Open</th>\n",
              "    </tr>\n",
              "  </thead>\n",
              "  <tbody>\n",
              "    <tr>\n",
              "      <th>0</th>\n",
              "      <td>52.444000</td>\n",
              "    </tr>\n",
              "    <tr>\n",
              "      <th>1</th>\n",
              "      <td>52.450001</td>\n",
              "    </tr>\n",
              "    <tr>\n",
              "      <th>2</th>\n",
              "      <td>52.419998</td>\n",
              "    </tr>\n",
              "    <tr>\n",
              "      <th>3</th>\n",
              "      <td>53.348000</td>\n",
              "    </tr>\n",
              "    <tr>\n",
              "      <th>4</th>\n",
              "      <td>52.844002</td>\n",
              "    </tr>\n",
              "    <tr>\n",
              "      <th>...</th>\n",
              "      <td>...</td>\n",
              "    </tr>\n",
              "    <tr>\n",
              "      <th>795</th>\n",
              "      <td>57.009998</td>\n",
              "    </tr>\n",
              "    <tr>\n",
              "      <th>796</th>\n",
              "      <td>56.959999</td>\n",
              "    </tr>\n",
              "    <tr>\n",
              "      <th>797</th>\n",
              "      <td>52.020000</td>\n",
              "    </tr>\n",
              "    <tr>\n",
              "      <th>798</th>\n",
              "      <td>54.652000</td>\n",
              "    </tr>\n",
              "    <tr>\n",
              "      <th>799</th>\n",
              "      <td>55.894001</td>\n",
              "    </tr>\n",
              "  </tbody>\n",
              "</table>\n",
              "<p>800 rows × 1 columns</p>\n",
              "</div>\n",
              "      <button class=\"colab-df-convert\" onclick=\"convertToInteractive('df-faec66c8-1c3e-435b-ab12-16cf9fbc06c3')\"\n",
              "              title=\"Convert this dataframe to an interactive table.\"\n",
              "              style=\"display:none;\">\n",
              "        \n",
              "  <svg xmlns=\"http://www.w3.org/2000/svg\" height=\"24px\"viewBox=\"0 0 24 24\"\n",
              "       width=\"24px\">\n",
              "    <path d=\"M0 0h24v24H0V0z\" fill=\"none\"/>\n",
              "    <path d=\"M18.56 5.44l.94 2.06.94-2.06 2.06-.94-2.06-.94-.94-2.06-.94 2.06-2.06.94zm-11 1L8.5 8.5l.94-2.06 2.06-.94-2.06-.94L8.5 2.5l-.94 2.06-2.06.94zm10 10l.94 2.06.94-2.06 2.06-.94-2.06-.94-.94-2.06-.94 2.06-2.06.94z\"/><path d=\"M17.41 7.96l-1.37-1.37c-.4-.4-.92-.59-1.43-.59-.52 0-1.04.2-1.43.59L10.3 9.45l-7.72 7.72c-.78.78-.78 2.05 0 2.83L4 21.41c.39.39.9.59 1.41.59.51 0 1.02-.2 1.41-.59l7.78-7.78 2.81-2.81c.8-.78.8-2.07 0-2.86zM5.41 20L4 18.59l7.72-7.72 1.47 1.35L5.41 20z\"/>\n",
              "  </svg>\n",
              "      </button>\n",
              "      \n",
              "  <style>\n",
              "    .colab-df-container {\n",
              "      display:flex;\n",
              "      flex-wrap:wrap;\n",
              "      gap: 12px;\n",
              "    }\n",
              "\n",
              "    .colab-df-convert {\n",
              "      background-color: #E8F0FE;\n",
              "      border: none;\n",
              "      border-radius: 50%;\n",
              "      cursor: pointer;\n",
              "      display: none;\n",
              "      fill: #1967D2;\n",
              "      height: 32px;\n",
              "      padding: 0 0 0 0;\n",
              "      width: 32px;\n",
              "    }\n",
              "\n",
              "    .colab-df-convert:hover {\n",
              "      background-color: #E2EBFA;\n",
              "      box-shadow: 0px 1px 2px rgba(60, 64, 67, 0.3), 0px 1px 3px 1px rgba(60, 64, 67, 0.15);\n",
              "      fill: #174EA6;\n",
              "    }\n",
              "\n",
              "    [theme=dark] .colab-df-convert {\n",
              "      background-color: #3B4455;\n",
              "      fill: #D2E3FC;\n",
              "    }\n",
              "\n",
              "    [theme=dark] .colab-df-convert:hover {\n",
              "      background-color: #434B5C;\n",
              "      box-shadow: 0px 1px 3px 1px rgba(0, 0, 0, 0.15);\n",
              "      filter: drop-shadow(0px 1px 2px rgba(0, 0, 0, 0.3));\n",
              "      fill: #FFFFFF;\n",
              "    }\n",
              "  </style>\n",
              "\n",
              "      <script>\n",
              "        const buttonEl =\n",
              "          document.querySelector('#df-faec66c8-1c3e-435b-ab12-16cf9fbc06c3 button.colab-df-convert');\n",
              "        buttonEl.style.display =\n",
              "          google.colab.kernel.accessAllowed ? 'block' : 'none';\n",
              "\n",
              "        async function convertToInteractive(key) {\n",
              "          const element = document.querySelector('#df-faec66c8-1c3e-435b-ab12-16cf9fbc06c3');\n",
              "          const dataTable =\n",
              "            await google.colab.kernel.invokeFunction('convertToInteractive',\n",
              "                                                     [key], {});\n",
              "          if (!dataTable) return;\n",
              "\n",
              "          const docLinkHtml = 'Like what you see? Visit the ' +\n",
              "            '<a target=\"_blank\" href=https://colab.research.google.com/notebooks/data_table.ipynb>data table notebook</a>'\n",
              "            + ' to learn more about interactive tables.';\n",
              "          element.innerHTML = '';\n",
              "          dataTable['output_type'] = 'display_data';\n",
              "          await google.colab.output.renderOutput(dataTable, element);\n",
              "          const docLink = document.createElement('div');\n",
              "          docLink.innerHTML = docLinkHtml;\n",
              "          element.appendChild(docLink);\n",
              "        }\n",
              "      </script>\n",
              "    </div>\n",
              "  </div>\n",
              "  "
            ],
            "text/plain": [
              "          Open\n",
              "0    52.444000\n",
              "1    52.450001\n",
              "2    52.419998\n",
              "3    53.348000\n",
              "4    52.844002\n",
              "..         ...\n",
              "795  57.009998\n",
              "796  56.959999\n",
              "797  52.020000\n",
              "798  54.652000\n",
              "799  55.894001\n",
              "\n",
              "[800 rows x 1 columns]"
            ]
          },
          "metadata": {},
          "execution_count": 6
        }
      ],
      "source": [
        "df.iloc[:800, 1:2]"
      ]
    },
    {
      "cell_type": "code",
      "execution_count": null,
      "metadata": {
        "id": "qVtlW1qalqOF",
        "outputId": "7d4045d5-2ae6-4d0e-89ad-c0cd67046c3b"
      },
      "outputs": [
        {
          "data": {
            "text/html": [
              "<div>\n",
              "<style scoped>\n",
              "    .dataframe tbody tr th:only-of-type {\n",
              "        vertical-align: middle;\n",
              "    }\n",
              "\n",
              "    .dataframe tbody tr th {\n",
              "        vertical-align: top;\n",
              "    }\n",
              "\n",
              "    .dataframe thead th {\n",
              "        text-align: right;\n",
              "    }\n",
              "</style>\n",
              "<table border=\"1\" class=\"dataframe\">\n",
              "  <thead>\n",
              "    <tr style=\"text-align: right;\">\n",
              "      <th></th>\n",
              "      <th>Open</th>\n",
              "    </tr>\n",
              "  </thead>\n",
              "  <tbody>\n",
              "    <tr>\n",
              "      <th>800</th>\n",
              "      <td>56.287998</td>\n",
              "    </tr>\n",
              "    <tr>\n",
              "      <th>801</th>\n",
              "      <td>57.604000</td>\n",
              "    </tr>\n",
              "    <tr>\n",
              "      <th>802</th>\n",
              "      <td>57.751999</td>\n",
              "    </tr>\n",
              "    <tr>\n",
              "      <th>803</th>\n",
              "      <td>58.007999</td>\n",
              "    </tr>\n",
              "    <tr>\n",
              "      <th>804</th>\n",
              "      <td>59.338001</td>\n",
              "    </tr>\n",
              "    <tr>\n",
              "      <th>...</th>\n",
              "      <td>...</td>\n",
              "    </tr>\n",
              "    <tr>\n",
              "      <th>1254</th>\n",
              "      <td>244.296005</td>\n",
              "    </tr>\n",
              "    <tr>\n",
              "      <th>1255</th>\n",
              "      <td>255.337997</td>\n",
              "    </tr>\n",
              "    <tr>\n",
              "      <th>1256</th>\n",
              "      <td>281.002014</td>\n",
              "    </tr>\n",
              "    <tr>\n",
              "      <th>1257</th>\n",
              "      <td>281.000000</td>\n",
              "    </tr>\n",
              "    <tr>\n",
              "      <th>1258</th>\n",
              "      <td>279.398010</td>\n",
              "    </tr>\n",
              "  </tbody>\n",
              "</table>\n",
              "<p>459 rows × 1 columns</p>\n",
              "</div>"
            ],
            "text/plain": [
              "            Open\n",
              "800    56.287998\n",
              "801    57.604000\n",
              "802    57.751999\n",
              "803    58.007999\n",
              "804    59.338001\n",
              "...          ...\n",
              "1254  244.296005\n",
              "1255  255.337997\n",
              "1256  281.002014\n",
              "1257  281.000000\n",
              "1258  279.398010\n",
              "\n",
              "[459 rows x 1 columns]"
            ]
          },
          "execution_count": 7,
          "metadata": {},
          "output_type": "execute_result"
        }
      ],
      "source": [
        "df.iloc[800:, 1:2]"
      ]
    },
    {
      "cell_type": "code",
      "execution_count": 7,
      "metadata": {
        "id": "STnOlMttlqOF"
      },
      "outputs": [],
      "source": [
        "# Feature Scaling\n",
        "sc = MinMaxScaler(feature_range = (0, 1))\n",
        "training_set_scaled = sc.fit_transform(training_set)\n",
        "# Creating a data structure with 60 time-steps and 1 output\n",
        "X_train = []\n",
        "y_train = []\n",
        "for i in range(60, 800):\n",
        "    X_train.append(training_set_scaled[i-60:i, 0])\n",
        "    y_train.append(training_set_scaled[i, 0])\n",
        "X_train, y_train = np.array(X_train), np.array(y_train)\n",
        "X_train = np.reshape(X_train, (X_train.shape[0], X_train.shape[1], 1))\n",
        "#(740, 60, 1)"
      ]
    },
    {
      "cell_type": "code",
      "execution_count": 8,
      "metadata": {
        "id": "9q5tGodXlqOG",
        "outputId": "d38c445c-66ab-4e72-a12d-9b112d9a05a7",
        "colab": {
          "base_uri": "https://localhost:8080/"
        }
      },
      "outputs": [
        {
          "output_type": "execute_result",
          "data": {
            "text/plain": [
              "array([[0.49064944],\n",
              "       [0.49077223],\n",
              "       [0.49015835],\n",
              "       [0.50914599],\n",
              "       [0.4988338 ],\n",
              "       [0.53271681],\n",
              "       [0.54294719],\n",
              "       [0.52269098],\n",
              "       [0.48676194],\n",
              "       [0.52105416],\n",
              "       [0.51176501],\n",
              "       [0.4915088 ],\n",
              "       [0.46417324],\n",
              "       [0.49903836],\n",
              "       [0.49257272],\n",
              "       [0.51266524],\n",
              "       [0.5073045 ],\n",
              "       [0.48160576],\n",
              "       [0.49621478],\n",
              "       [0.43876093],\n",
              "       [0.41437166],\n",
              "       [0.39215128],\n",
              "       [0.3880591 ],\n",
              "       [0.37926097],\n",
              "       [0.39914884],\n",
              "       [0.42934899],\n",
              "       [0.46339569],\n",
              "       [0.4626591 ],\n",
              "       [0.48291531],\n",
              "       [0.44907312],\n",
              "       [0.38335314],\n",
              "       [0.24745261],\n",
              "       [0.36092811],\n",
              "       [0.35032941],\n",
              "       [0.36289237],\n",
              "       [0.4073332 ],\n",
              "       [0.42271968],\n",
              "       [0.4011131 ],\n",
              "       [0.42141019],\n",
              "       [0.44907312],\n",
              "       [0.40336378],\n",
              "       [0.42038709],\n",
              "       [0.44903222],\n",
              "       [0.42930801],\n",
              "       [0.43098582],\n",
              "       [0.44514469],\n",
              "       [0.45189671],\n",
              "       [0.4530835 ],\n",
              "       [0.4977698 ],\n",
              "       [0.47321684],\n",
              "       [0.49785166],\n",
              "       [0.47759547],\n",
              "       [0.48954454],\n",
              "       [0.47964151],\n",
              "       [0.50861399],\n",
              "       [0.47072067],\n",
              "       [0.44252567],\n",
              "       [0.44882765],\n",
              "       [0.43045381],\n",
              "       [0.38171624]])"
            ]
          },
          "metadata": {},
          "execution_count": 8
        }
      ],
      "source": [
        "training_set\n",
        "training_set_scaled\n",
        "training_set_scaled[60-60:60, ]"
      ]
    },
    {
      "cell_type": "code",
      "execution_count": null,
      "metadata": {
        "id": "9QLipmg6lqOG",
        "outputId": "3ee66a90-4bdb-4abd-a91b-d3120fb85955"
      },
      "outputs": [
        {
          "data": {
            "text/plain": [
              "60"
            ]
          },
          "execution_count": 17,
          "metadata": {},
          "output_type": "execute_result"
        }
      ],
      "source": [
        "X_train.shape[1]"
      ]
    },
    {
      "cell_type": "code",
      "execution_count": 9,
      "metadata": {
        "id": "PRcNhufclqOH",
        "outputId": "26a9391a-0add-43f9-c7bd-ce9dd86a9863",
        "colab": {
          "base_uri": "https://localhost:8080/"
        }
      },
      "outputs": [
        {
          "output_type": "stream",
          "name": "stdout",
          "text": [
            "Epoch 1/100\n",
            "24/24 [==============================] - 12s 60ms/step - loss: 0.0708\n",
            "Epoch 2/100\n",
            "24/24 [==============================] - 1s 62ms/step - loss: 0.0196\n",
            "Epoch 3/100\n",
            "24/24 [==============================] - 1s 61ms/step - loss: 0.0133\n",
            "Epoch 4/100\n",
            "24/24 [==============================] - 1s 60ms/step - loss: 0.0115\n",
            "Epoch 5/100\n",
            "24/24 [==============================] - 1s 61ms/step - loss: 0.0111\n",
            "Epoch 6/100\n",
            "24/24 [==============================] - 1s 61ms/step - loss: 0.0113\n",
            "Epoch 7/100\n",
            "24/24 [==============================] - 1s 62ms/step - loss: 0.0097\n",
            "Epoch 8/100\n",
            "24/24 [==============================] - 1s 61ms/step - loss: 0.0115\n",
            "Epoch 9/100\n",
            "24/24 [==============================] - 1s 60ms/step - loss: 0.0119\n",
            "Epoch 10/100\n",
            "24/24 [==============================] - 1s 61ms/step - loss: 0.0100\n",
            "Epoch 11/100\n",
            "24/24 [==============================] - 1s 60ms/step - loss: 0.0093\n",
            "Epoch 12/100\n",
            "24/24 [==============================] - 1s 60ms/step - loss: 0.0096\n",
            "Epoch 13/100\n",
            "24/24 [==============================] - 1s 60ms/step - loss: 0.0092\n",
            "Epoch 14/100\n",
            "24/24 [==============================] - 1s 59ms/step - loss: 0.0093\n",
            "Epoch 15/100\n",
            "24/24 [==============================] - 1s 61ms/step - loss: 0.0086\n",
            "Epoch 16/100\n",
            "24/24 [==============================] - 1s 61ms/step - loss: 0.0083\n",
            "Epoch 17/100\n",
            "24/24 [==============================] - 1s 61ms/step - loss: 0.0078\n",
            "Epoch 18/100\n",
            "24/24 [==============================] - 1s 61ms/step - loss: 0.0072\n",
            "Epoch 19/100\n",
            "24/24 [==============================] - 1s 61ms/step - loss: 0.0075\n",
            "Epoch 20/100\n",
            "24/24 [==============================] - 1s 60ms/step - loss: 0.0074\n",
            "Epoch 21/100\n",
            "24/24 [==============================] - 1s 61ms/step - loss: 0.0077\n",
            "Epoch 22/100\n",
            "24/24 [==============================] - 1s 60ms/step - loss: 0.0077\n",
            "Epoch 23/100\n",
            "24/24 [==============================] - 1s 60ms/step - loss: 0.0064\n",
            "Epoch 24/100\n",
            "24/24 [==============================] - 1s 61ms/step - loss: 0.0065\n",
            "Epoch 25/100\n",
            "24/24 [==============================] - 1s 61ms/step - loss: 0.0077\n",
            "Epoch 26/100\n",
            "24/24 [==============================] - 1s 62ms/step - loss: 0.0077\n",
            "Epoch 27/100\n",
            "24/24 [==============================] - 1s 61ms/step - loss: 0.0067\n",
            "Epoch 28/100\n",
            "24/24 [==============================] - 1s 60ms/step - loss: 0.0065\n",
            "Epoch 29/100\n",
            "24/24 [==============================] - 1s 61ms/step - loss: 0.0063\n",
            "Epoch 30/100\n",
            "24/24 [==============================] - 2s 64ms/step - loss: 0.0067\n",
            "Epoch 31/100\n",
            "24/24 [==============================] - 2s 69ms/step - loss: 0.0061\n",
            "Epoch 32/100\n",
            "24/24 [==============================] - 2s 70ms/step - loss: 0.0058\n",
            "Epoch 33/100\n",
            "24/24 [==============================] - 2s 71ms/step - loss: 0.0053\n",
            "Epoch 34/100\n",
            "24/24 [==============================] - 1s 61ms/step - loss: 0.0056\n",
            "Epoch 35/100\n",
            "24/24 [==============================] - 1s 61ms/step - loss: 0.0057\n",
            "Epoch 36/100\n",
            "24/24 [==============================] - 1s 61ms/step - loss: 0.0058\n",
            "Epoch 37/100\n",
            "24/24 [==============================] - 1s 61ms/step - loss: 0.0049\n",
            "Epoch 38/100\n",
            "24/24 [==============================] - 1s 61ms/step - loss: 0.0053\n",
            "Epoch 39/100\n",
            "24/24 [==============================] - 1s 61ms/step - loss: 0.0053\n",
            "Epoch 40/100\n",
            "24/24 [==============================] - 1s 61ms/step - loss: 0.0053\n",
            "Epoch 41/100\n",
            "24/24 [==============================] - 1s 61ms/step - loss: 0.0061\n",
            "Epoch 42/100\n",
            "24/24 [==============================] - 1s 61ms/step - loss: 0.0048\n",
            "Epoch 43/100\n",
            "24/24 [==============================] - 1s 62ms/step - loss: 0.0050\n",
            "Epoch 44/100\n",
            "24/24 [==============================] - 1s 62ms/step - loss: 0.0060\n",
            "Epoch 45/100\n",
            "24/24 [==============================] - 1s 61ms/step - loss: 0.0049\n",
            "Epoch 46/100\n",
            "24/24 [==============================] - 1s 61ms/step - loss: 0.0046\n",
            "Epoch 47/100\n",
            "24/24 [==============================] - 1s 61ms/step - loss: 0.0050\n",
            "Epoch 48/100\n",
            "24/24 [==============================] - 1s 61ms/step - loss: 0.0044\n",
            "Epoch 49/100\n",
            "24/24 [==============================] - 1s 61ms/step - loss: 0.0048\n",
            "Epoch 50/100\n",
            "24/24 [==============================] - 1s 61ms/step - loss: 0.0045\n",
            "Epoch 51/100\n",
            "24/24 [==============================] - 1s 61ms/step - loss: 0.0038\n",
            "Epoch 52/100\n",
            "24/24 [==============================] - 1s 62ms/step - loss: 0.0043\n",
            "Epoch 53/100\n",
            "24/24 [==============================] - 1s 61ms/step - loss: 0.0040\n",
            "Epoch 54/100\n",
            "24/24 [==============================] - 1s 61ms/step - loss: 0.0046\n",
            "Epoch 55/100\n",
            "24/24 [==============================] - 1s 60ms/step - loss: 0.0046\n",
            "Epoch 56/100\n",
            "24/24 [==============================] - 1s 61ms/step - loss: 0.0044\n",
            "Epoch 57/100\n",
            "24/24 [==============================] - 1s 61ms/step - loss: 0.0041\n",
            "Epoch 58/100\n",
            "24/24 [==============================] - 1s 61ms/step - loss: 0.0042\n",
            "Epoch 59/100\n",
            "24/24 [==============================] - 1s 62ms/step - loss: 0.0045\n",
            "Epoch 60/100\n",
            "24/24 [==============================] - 1s 62ms/step - loss: 0.0048\n",
            "Epoch 61/100\n",
            "24/24 [==============================] - 1s 62ms/step - loss: 0.0035\n",
            "Epoch 62/100\n",
            "24/24 [==============================] - 1s 61ms/step - loss: 0.0037\n",
            "Epoch 63/100\n",
            "24/24 [==============================] - 1s 62ms/step - loss: 0.0037\n",
            "Epoch 64/100\n",
            "24/24 [==============================] - 1s 61ms/step - loss: 0.0034\n",
            "Epoch 65/100\n",
            "24/24 [==============================] - 1s 61ms/step - loss: 0.0040\n",
            "Epoch 66/100\n",
            "24/24 [==============================] - 1s 61ms/step - loss: 0.0036\n",
            "Epoch 67/100\n",
            "24/24 [==============================] - 1s 60ms/step - loss: 0.0037\n",
            "Epoch 68/100\n",
            "24/24 [==============================] - 1s 61ms/step - loss: 0.0040\n",
            "Epoch 69/100\n",
            "24/24 [==============================] - 1s 61ms/step - loss: 0.0038\n",
            "Epoch 70/100\n",
            "24/24 [==============================] - 1s 61ms/step - loss: 0.0032\n",
            "Epoch 71/100\n",
            "24/24 [==============================] - 1s 62ms/step - loss: 0.0034\n",
            "Epoch 72/100\n",
            "24/24 [==============================] - 1s 60ms/step - loss: 0.0038\n",
            "Epoch 73/100\n",
            "24/24 [==============================] - 1s 61ms/step - loss: 0.0033\n",
            "Epoch 74/100\n",
            "24/24 [==============================] - 1s 61ms/step - loss: 0.0034\n",
            "Epoch 75/100\n",
            "24/24 [==============================] - 1s 61ms/step - loss: 0.0034\n",
            "Epoch 76/100\n",
            "24/24 [==============================] - 1s 62ms/step - loss: 0.0033\n",
            "Epoch 77/100\n",
            "24/24 [==============================] - 1s 60ms/step - loss: 0.0033\n",
            "Epoch 78/100\n",
            "24/24 [==============================] - 1s 61ms/step - loss: 0.0034\n",
            "Epoch 79/100\n",
            "24/24 [==============================] - 1s 61ms/step - loss: 0.0039\n",
            "Epoch 80/100\n",
            "24/24 [==============================] - 1s 61ms/step - loss: 0.0033\n",
            "Epoch 81/100\n",
            "24/24 [==============================] - 1s 61ms/step - loss: 0.0036\n",
            "Epoch 82/100\n",
            "24/24 [==============================] - 1s 61ms/step - loss: 0.0031\n",
            "Epoch 83/100\n",
            "24/24 [==============================] - 1s 61ms/step - loss: 0.0035\n",
            "Epoch 84/100\n",
            "24/24 [==============================] - 1s 61ms/step - loss: 0.0037\n",
            "Epoch 85/100\n",
            "24/24 [==============================] - 1s 62ms/step - loss: 0.0032\n",
            "Epoch 86/100\n",
            "24/24 [==============================] - 1s 61ms/step - loss: 0.0034\n",
            "Epoch 87/100\n",
            "24/24 [==============================] - 1s 61ms/step - loss: 0.0036\n",
            "Epoch 88/100\n",
            "24/24 [==============================] - 1s 62ms/step - loss: 0.0032\n",
            "Epoch 89/100\n",
            "24/24 [==============================] - 1s 62ms/step - loss: 0.0028\n",
            "Epoch 90/100\n",
            "24/24 [==============================] - 1s 61ms/step - loss: 0.0037\n",
            "Epoch 91/100\n",
            "24/24 [==============================] - 1s 61ms/step - loss: 0.0030\n",
            "Epoch 92/100\n",
            "24/24 [==============================] - 1s 61ms/step - loss: 0.0031\n",
            "Epoch 93/100\n",
            "24/24 [==============================] - 1s 61ms/step - loss: 0.0034\n",
            "Epoch 94/100\n",
            "24/24 [==============================] - 1s 61ms/step - loss: 0.0033\n",
            "Epoch 95/100\n",
            "24/24 [==============================] - 1s 61ms/step - loss: 0.0030\n",
            "Epoch 96/100\n",
            "24/24 [==============================] - 1s 62ms/step - loss: 0.0032\n",
            "Epoch 97/100\n",
            "24/24 [==============================] - 1s 61ms/step - loss: 0.0029\n",
            "Epoch 98/100\n",
            "24/24 [==============================] - 1s 61ms/step - loss: 0.0031\n",
            "Epoch 99/100\n",
            "24/24 [==============================] - 1s 62ms/step - loss: 0.0030\n",
            "Epoch 100/100\n",
            "24/24 [==============================] - 1s 61ms/step - loss: 0.0033\n"
          ]
        },
        {
          "output_type": "execute_result",
          "data": {
            "text/plain": [
              "<keras.callbacks.History at 0x7fd4095dd050>"
            ]
          },
          "metadata": {},
          "execution_count": 9
        }
      ],
      "source": [
        "model = Sequential()\n",
        "#Adding the first LSTM layer and some Dropout regularisation\n",
        "model.add(LSTM(units = 50, return_sequences = True, input_shape = (X_train.shape[1], 1)))\n",
        "model.add(Dropout(0.2))\n",
        "# Adding a second LSTM layer and some Dropout regularisation\n",
        "model.add(LSTM(units = 50, return_sequences = True))\n",
        "model.add(Dropout(0.2))\n",
        "# Adding a third LSTM layer and some Dropout regularisation\n",
        "model.add(LSTM(units = 50, return_sequences = True))\n",
        "model.add(Dropout(0.2))\n",
        "# Adding a fourth LSTM layer and some Dropout regularisation\n",
        "model.add(LSTM(units = 50))\n",
        "model.add(Dropout(0.2))\n",
        "# Adding the output layer\n",
        "model.add(Dense(units = 1))\n",
        "\n",
        "# Compiling the RNN\n",
        "model.compile(optimizer = 'adam', loss = 'mean_squared_error')\n",
        "\n",
        "# Fitting the RNN to the Training set\n",
        "model.fit(X_train, y_train, epochs = 100, batch_size = 32)"
      ]
    },
    {
      "cell_type": "code",
      "execution_count": null,
      "metadata": {
        "id": "_euEye6UlqOH"
      },
      "outputs": [],
      "source": [
        "model.save('Saved_model/Trained_model.h5')"
      ]
    },
    {
      "cell_type": "code",
      "execution_count": null,
      "metadata": {
        "id": "9oriI1lolqOI"
      },
      "outputs": [],
      "source": [
        "model_loaded = tf.keras.models.load_model('Saved_model/Trained_model.h5')"
      ]
    },
    {
      "cell_type": "code",
      "execution_count": 10,
      "metadata": {
        "id": "TWrGYhzVlqOI",
        "outputId": "1d9fd64f-e5ba-4be6-80cb-f0525d2e9a1d",
        "colab": {
          "base_uri": "https://localhost:8080/"
        }
      },
      "outputs": [
        {
          "output_type": "stream",
          "name": "stdout",
          "text": [
            "(459, 60, 1)\n"
          ]
        }
      ],
      "source": [
        "# Getting the predicted stock price of 2017\n",
        "dataset_train = df.iloc[:800, 1:2]\n",
        "dataset_test = df.iloc[800:, 1:2]\n",
        "\n",
        "dataset_total = pd.concat((dataset_train, dataset_test), axis = 0)\n",
        "dummy = dataset_total[len(dataset_total) - len(dataset_test) - 60:].values\n",
        "\n",
        "inputs = dummy.reshape(-1,1)\n",
        "inputs_transformed = sc.transform(inputs)\n",
        "\n",
        "X_test = []\n",
        "\n",
        "for i in range(60, 519):\n",
        "    X_test.append(inputs_transformed[i-60:i, 0])\n",
        "    \n",
        "X_test = np.array(X_test)\n",
        "X_test = np.reshape(X_test, (X_test.shape[0], X_test.shape[1], 1))\n",
        "print(X_test.shape)\n",
        "# (459, 60, 1)"
      ]
    },
    {
      "cell_type": "code",
      "execution_count": 11,
      "metadata": {
        "id": "AoFXLmROlqOJ"
      },
      "outputs": [],
      "source": [
        "predicted_stock_price = model.predict(X_test)\n",
        "predicted_stock_price = sc.inverse_transform(predicted_stock_price)"
      ]
    },
    {
      "cell_type": "code",
      "execution_count": null,
      "metadata": {
        "id": "0k3gQrghlqOJ"
      },
      "outputs": [],
      "source": [
        "predicted_stock_price = model_loaded.predict(X_test)\n",
        "predicted_stock_price = sc.inverse_transform(predicted_stock_price)"
      ]
    },
    {
      "cell_type": "code",
      "execution_count": 12,
      "metadata": {
        "id": "49mqrSwGlqOJ",
        "outputId": "d38c5d7f-3d3d-4720-9a12-c6b3cbf6fe56",
        "colab": {
          "base_uri": "https://localhost:8080/",
          "height": 510
        }
      },
      "outputs": [
        {
          "output_type": "display_data",
          "data": {
            "image/png": "[encoded data removed]",
            "text/plain": [
              "<Figure size 1600x800 with 1 Axes>"
            ]
          },
          "metadata": {
            "needs_background": "light"
          }
        }
      ],
      "source": [
        "from matplotlib.pyplot import figure\n",
        "\n",
        "figure(figsize=(20, 10), dpi=80)\n",
        "\n",
        "# Visualising the results\n",
        "plt.plot(df.loc[800:, 'Date'],dataset_test.values, color = 'red', label = 'Real TESLA Stock Price')\n",
        "plt.plot(df.loc[800:, 'Date'],predicted_stock_price, color = 'blue', label = 'Predicted TESLA Stock Price')\n",
        "plt.xticks(np.arange(0,459,50))\n",
        "plt.title('TESLA Stock Price Prediction')\n",
        "plt.xlabel('Time')\n",
        "plt.ylabel('TESLA Stock Price')\n",
        "plt.legend()\n",
        "plt.show()"
      ]
    },
    {
      "cell_type": "code",
      "execution_count": 13,
      "metadata": {
        "id": "DcukJxeDlqOK",
        "outputId": "b1914b14-3b63-4436-a87b-e8f3a87b19ed",
        "colab": {
          "base_uri": "https://localhost:8080/"
        }
      },
      "outputs": [
        {
          "output_type": "stream",
          "name": "stdout",
          "text": [
            "Test Score: 28.04 RMSE\n",
            "Test Score: 13.45 MSE\n"
          ]
        }
      ],
      "source": [
        "# calculate root mean squared error\n",
        "testScoreRMSE = np.sqrt(mean_squared_error(dataset_test.values, predicted_stock_price[:,0].reshape(-1,1)))\n",
        "print('Test Score: %.2f RMSE' % (testScoreRMSE))\n",
        "\n",
        "testScoreMAE = mean_absolute_error(dataset_test.values, predicted_stock_price[:,0].reshape(-1,1))\n",
        "print('Test Score: %.2f MSE' % (testScoreMAE))\n",
        "\n",
        "# dataset_test.values[:250]\n",
        "# predicted_stock_price[:,0].reshape(-1,1)"
      ]
    },
    {
      "cell_type": "markdown",
      "metadata": {
        "id": "oVjQDmUZlqOK"
      },
      "source": [
        "## Trial 2:\n",
        "\n",
        "### Now I will attempt to use multiple features, instead of just closing price. Intiutivally, stock trading volume should have an impact on the prediction"
      ]
    },
    {
      "cell_type": "code",
      "execution_count": null,
      "metadata": {
        "id": "0ZxDp718lqOK",
        "outputId": "23ff1808-8fde-4cff-a137-e68e56208074"
      },
      "outputs": [
        {
          "data": {
            "text/html": [
              "<div>\n",
              "<style scoped>\n",
              "    .dataframe tbody tr th:only-of-type {\n",
              "        vertical-align: middle;\n",
              "    }\n",
              "\n",
              "    .dataframe tbody tr th {\n",
              "        vertical-align: top;\n",
              "    }\n",
              "\n",
              "    .dataframe thead th {\n",
              "        text-align: right;\n",
              "    }\n",
              "</style>\n",
              "<table border=\"1\" class=\"dataframe\">\n",
              "  <thead>\n",
              "    <tr style=\"text-align: right;\">\n",
              "      <th></th>\n",
              "      <th>Date</th>\n",
              "      <th>Open</th>\n",
              "      <th>High</th>\n",
              "      <th>Low</th>\n",
              "      <th>Close</th>\n",
              "      <th>Adj Close</th>\n",
              "      <th>Volume</th>\n",
              "    </tr>\n",
              "  </thead>\n",
              "  <tbody>\n",
              "    <tr>\n",
              "      <th>0</th>\n",
              "      <td>2015-07-10</td>\n",
              "      <td>52.444000</td>\n",
              "      <td>52.599998</td>\n",
              "      <td>51.563999</td>\n",
              "      <td>51.830002</td>\n",
              "      <td>51.830002</td>\n",
              "      <td>13054500</td>\n",
              "    </tr>\n",
              "    <tr>\n",
              "      <th>1</th>\n",
              "      <td>2015-07-13</td>\n",
              "      <td>52.450001</td>\n",
              "      <td>52.509998</td>\n",
              "      <td>51.209999</td>\n",
              "      <td>52.431999</td>\n",
              "      <td>52.431999</td>\n",
              "      <td>14801500</td>\n",
              "    </tr>\n",
              "    <tr>\n",
              "      <th>2</th>\n",
              "      <td>2015-07-14</td>\n",
              "      <td>52.419998</td>\n",
              "      <td>53.198002</td>\n",
              "      <td>52.102001</td>\n",
              "      <td>53.130001</td>\n",
              "      <td>53.130001</td>\n",
              "      <td>9538000</td>\n",
              "    </tr>\n",
              "    <tr>\n",
              "      <th>3</th>\n",
              "      <td>2015-07-15</td>\n",
              "      <td>53.348000</td>\n",
              "      <td>53.498001</td>\n",
              "      <td>52.416000</td>\n",
              "      <td>52.627998</td>\n",
              "      <td>52.627998</td>\n",
              "      <td>10108000</td>\n",
              "    </tr>\n",
              "    <tr>\n",
              "      <th>4</th>\n",
              "      <td>2015-07-16</td>\n",
              "      <td>52.844002</td>\n",
              "      <td>53.439999</td>\n",
              "      <td>52.632000</td>\n",
              "      <td>53.335999</td>\n",
              "      <td>53.335999</td>\n",
              "      <td>8080000</td>\n",
              "    </tr>\n",
              "  </tbody>\n",
              "</table>\n",
              "</div>"
            ],
            "text/plain": [
              "         Date       Open       High        Low      Close  Adj Close    Volume\n",
              "0  2015-07-10  52.444000  52.599998  51.563999  51.830002  51.830002  13054500\n",
              "1  2015-07-13  52.450001  52.509998  51.209999  52.431999  52.431999  14801500\n",
              "2  2015-07-14  52.419998  53.198002  52.102001  53.130001  53.130001   9538000\n",
              "3  2015-07-15  53.348000  53.498001  52.416000  52.627998  52.627998  10108000\n",
              "4  2015-07-16  52.844002  53.439999  52.632000  53.335999  53.335999   8080000"
            ]
          },
          "execution_count": 165,
          "metadata": {},
          "output_type": "execute_result"
        }
      ],
      "source": [
        "df.head()"
      ]
    },
    {
      "cell_type": "code",
      "execution_count": null,
      "metadata": {
        "id": "cJ018UK9lqOL",
        "outputId": "c3ee66cd-6787-44c3-f01a-063b733c6a01"
      },
      "outputs": [
        {
          "data": {
            "text/plain": [
              "array([[5.1830002e+01, 1.3054500e+07],\n",
              "       [5.2431999e+01, 1.4801500e+07],\n",
              "       [5.3130001e+01, 9.5380000e+06],\n",
              "       ...,\n",
              "       [5.2647999e+01, 1.1245950e+08],\n",
              "       [5.7099998e+01, 7.1417500e+07],\n",
              "       [5.5888000e+01, 4.5850000e+07]])"
            ]
          },
          "execution_count": 166,
          "metadata": {},
          "output_type": "execute_result"
        }
      ],
      "source": [
        "# split the data into training and test sets\n",
        "\n",
        "# df.iloc[:800, [4,6]]\n",
        "\n",
        "\n",
        "\n",
        "training_set = df.iloc[:800, [4,6]].values\n",
        "test_set = df.iloc[800:, [4,6]].values\n",
        "\n",
        "training_set"
      ]
    },
    {
      "cell_type": "code",
      "execution_count": null,
      "metadata": {
        "id": "V5xSnOyzlqOL"
      },
      "outputs": [],
      "source": [
        "# scaler = StandardScaler()\n",
        "\n",
        "# training_set_scaled = scaler.fit_transform(training_set)\n",
        "\n",
        "# training_set_unscaled = scaler.inverse_transform(training_set_scaled)\n",
        "\n",
        "# training_set_unscaled\n",
        "\n",
        "# test = np.zeros((len(training_set_scaled),2))\n",
        "# test[:,0] = training_set_scaled[:,0]\n",
        "\n",
        "# prediction = scaler.inverse_transform(test)\n",
        "# prediction[:,0]\n",
        "# # # Get something which has as many features as dataset\n",
        "# predicted_stock_price_extended = np.zeros((len(predicted_stock_price),2))\n",
        "# # predicted_stock_price_extended[:,1]\n",
        "# # predicted_stock_price\n",
        "# # # # Put the predictions there\n",
        "# predicted_stock_price_extended[:,1] = predicted_stock_price[:,0]\n",
        "# # predicted_stock_price_extended\n",
        "# # # # Inverse transform it and select the 3rd column.\n",
        "# predicted_stock_price = scaler.inverse_transform(predicted_stock_price_extended)[:,1]"
      ]
    },
    {
      "cell_type": "code",
      "execution_count": null,
      "metadata": {
        "id": "Py-zhbWglqOM"
      },
      "outputs": [],
      "source": [
        "scaler = StandardScaler()\n",
        "\n",
        "training_set_scaled = scaler.fit_transform(training_set)\n",
        "\n",
        "X_train = []\n",
        "y_train = []\n",
        "\n",
        "for i in range(60, 800):\n",
        "    \n",
        "    X_train.append(training_set_scaled[i-60:i, 0:2])\n",
        "    y_train.append(training_set_scaled[i,0])\n",
        "    \n",
        "X_train, y_train = np.array(X_train), np.array(y_train)\n",
        "X_train = np.reshape(X_train, (X_train.shape[0], X_train.shape[1], 2))\n"
      ]
    },
    {
      "cell_type": "code",
      "execution_count": null,
      "metadata": {
        "id": "PBncxAczlqOM",
        "outputId": "c21933f6-f7c8-4192-c970-61a4ad62d8e0"
      },
      "outputs": [
        {
          "data": {
            "text/plain": [
              "60"
            ]
          },
          "execution_count": 169,
          "metadata": {},
          "output_type": "execute_result"
        }
      ],
      "source": [
        "# training_set_scaled[60-60:60, 0:2]\n",
        "# training_set_scaled[1, 1]\n",
        "# X_train = np.reshape(X_train, (X_train.shape[0], X_train.shape[1], 1))\n",
        "X_train.shape[1]"
      ]
    },
    {
      "cell_type": "code",
      "execution_count": null,
      "metadata": {
        "id": "NmIpN5EClqOM",
        "outputId": "43aa8dbc-d242-471b-bfef-d543f51644bd"
      },
      "outputs": [
        {
          "name": "stdout",
          "output_type": "stream",
          "text": [
            "Train on 740 samples\n",
            "Epoch 1/100\n",
            "740/740 [==============================] - 19s 26ms/sample - loss: 0.3282\n",
            "Epoch 2/100\n",
            "740/740 [==============================] - 10s 13ms/sample - loss: 0.1664\n",
            "Epoch 3/100\n",
            "740/740 [==============================] - 10s 13ms/sample - loss: 0.1387\n",
            "Epoch 4/100\n",
            "740/740 [==============================] - 10s 13ms/sample - loss: 0.1264\n",
            "Epoch 5/100\n",
            "740/740 [==============================] - 10s 14ms/sample - loss: 0.1132\n",
            "Epoch 6/100\n",
            "740/740 [==============================] - 10s 14ms/sample - loss: 0.1086\n",
            "Epoch 7/100\n",
            "740/740 [==============================] - 10s 14ms/sample - loss: 0.0940\n",
            "Epoch 8/100\n",
            "740/740 [==============================] - 11s 15ms/sample - loss: 0.0973\n",
            "Epoch 9/100\n",
            "740/740 [==============================] - 10s 14ms/sample - loss: 0.0849\n",
            "Epoch 10/100\n",
            "740/740 [==============================] - 10s 14ms/sample - loss: 0.0815\n",
            "Epoch 11/100\n",
            "740/740 [==============================] - 10s 13ms/sample - loss: 0.0698\n",
            "Epoch 12/100\n",
            "740/740 [==============================] - 10s 14ms/sample - loss: 0.0748\n",
            "Epoch 13/100\n",
            "740/740 [==============================] - 10s 14ms/sample - loss: 0.0683\n",
            "Epoch 14/100\n",
            "740/740 [==============================] - 10s 13ms/sample - loss: 0.0740\n",
            "Epoch 15/100\n",
            "740/740 [==============================] - 10s 14ms/sample - loss: 0.0698\n",
            "Epoch 16/100\n",
            "740/740 [==============================] - 10s 14ms/sample - loss: 0.0589\n",
            "Epoch 17/100\n",
            "740/740 [==============================] - 10s 14ms/sample - loss: 0.0570\n",
            "Epoch 18/100\n",
            "740/740 [==============================] - 11s 15ms/sample - loss: 0.0590\n",
            "Epoch 19/100\n",
            "740/740 [==============================] - 10s 13ms/sample - loss: 0.0572\n",
            "Epoch 20/100\n",
            "740/740 [==============================] - 12s 16ms/sample - loss: 0.0545\n",
            "Epoch 21/100\n",
            "740/740 [==============================] - 11s 14ms/sample - loss: 0.0489\n",
            "Epoch 22/100\n",
            "740/740 [==============================] - 10s 14ms/sample - loss: 0.0606\n",
            "Epoch 23/100\n",
            "740/740 [==============================] - 10s 14ms/sample - loss: 0.0518\n",
            "Epoch 24/100\n",
            "740/740 [==============================] - 11s 14ms/sample - loss: 0.0519\n",
            "Epoch 25/100\n",
            "740/740 [==============================] - 13s 17ms/sample - loss: 0.0498\n",
            "Epoch 26/100\n",
            "740/740 [==============================] - 14s 19ms/sample - loss: 0.0481\n",
            "Epoch 27/100\n",
            "740/740 [==============================] - 13s 17ms/sample - loss: 0.0469\n",
            "Epoch 28/100\n",
            "740/740 [==============================] - 15s 20ms/sample - loss: 0.0443\n",
            "Epoch 29/100\n",
            "740/740 [==============================] - 20s 27ms/sample - loss: 0.0490\n",
            "Epoch 30/100\n",
            "740/740 [==============================] - 38s 52ms/sample - loss: 0.0491\n",
            "Epoch 31/100\n",
            "740/740 [==============================] - 35s 47ms/sample - loss: 0.0478\n",
            "Epoch 32/100\n",
            "740/740 [==============================] - 22s 30ms/sample - loss: 0.0426\n",
            "Epoch 33/100\n",
            "740/740 [==============================] - 25s 33ms/sample - loss: 0.0416\n",
            "Epoch 34/100\n",
            "740/740 [==============================] - 28s 38ms/sample - loss: 0.0457\n",
            "Epoch 35/100\n",
            "740/740 [==============================] - 28s 37ms/sample - loss: 0.0419\n",
            "Epoch 36/100\n",
            "740/740 [==============================] - 37s 50ms/sample - loss: 0.0423\n",
            "Epoch 37/100\n",
            "740/740 [==============================] - 29s 40ms/sample - loss: 0.0388\n",
            "Epoch 38/100\n",
            "740/740 [==============================] - 31s 42ms/sample - loss: 0.0384\n",
            "Epoch 39/100\n",
            "740/740 [==============================] - 35s 47ms/sample - loss: 0.0400\n",
            "Epoch 40/100\n",
            "740/740 [==============================] - 34s 46ms/sample - loss: 0.0387\n",
            "Epoch 41/100\n",
            "740/740 [==============================] - 30s 41ms/sample - loss: 0.0388\n",
            "Epoch 42/100\n",
            "740/740 [==============================] - 26s 35ms/sample - loss: 0.0415\n",
            "Epoch 43/100\n",
            "740/740 [==============================] - 23s 31ms/sample - loss: 0.0371\n",
            "Epoch 44/100\n",
            "740/740 [==============================] - 34s 46ms/sample - loss: 0.0370\n",
            "Epoch 45/100\n",
            "740/740 [==============================] - 36s 48ms/sample - loss: 0.0384\n",
            "Epoch 46/100\n",
            "740/740 [==============================] - 25s 33ms/sample - loss: 0.0354\n",
            "Epoch 47/100\n",
            "740/740 [==============================] - 23s 32ms/sample - loss: 0.0393\n",
            "Epoch 48/100\n",
            "740/740 [==============================] - 26s 35ms/sample - loss: 0.0376\n",
            "Epoch 49/100\n",
            "740/740 [==============================] - 22s 30ms/sample - loss: 0.0349\n",
            "Epoch 50/100\n",
            "740/740 [==============================] - 20s 27ms/sample - loss: 0.0362\n",
            "Epoch 51/100\n",
            "740/740 [==============================] - 24s 33ms/sample - loss: 0.0355\n",
            "Epoch 52/100\n",
            "740/740 [==============================] - 27s 37ms/sample - loss: 0.0399\n",
            "Epoch 53/100\n",
            "740/740 [==============================] - 29s 39ms/sample - loss: 0.0368\n",
            "Epoch 54/100\n",
            "740/740 [==============================] - 33s 45ms/sample - loss: 0.0353\n",
            "Epoch 55/100\n",
            "740/740 [==============================] - 47s 63ms/sample - loss: 0.0338\n",
            "Epoch 56/100\n",
            "740/740 [==============================] - 32s 43ms/sample - loss: 0.0344\n",
            "Epoch 57/100\n",
            "740/740 [==============================] - 27s 36ms/sample - loss: 0.0349\n",
            "Epoch 58/100\n",
            "740/740 [==============================] - 21s 28ms/sample - loss: 0.0340\n",
            "Epoch 59/100\n",
            "740/740 [==============================] - 41s 55ms/sample - loss: 0.0310\n",
            "Epoch 60/100\n",
            "740/740 [==============================] - 30s 40ms/sample - loss: 0.0317\n",
            "Epoch 61/100\n",
            "740/740 [==============================] - 50s 67ms/sample - loss: 0.0303\n",
            "Epoch 62/100\n",
            "740/740 [==============================] - 38s 51ms/sample - loss: 0.0309\n",
            "Epoch 63/100\n",
            "740/740 [==============================] - 24s 32ms/sample - loss: 0.0317\n",
            "Epoch 64/100\n",
            "740/740 [==============================] - 34s 46ms/sample - loss: 0.0361\n",
            "Epoch 65/100\n",
            "740/740 [==============================] - 55s 74ms/sample - loss: 0.0334\n",
            "Epoch 66/100\n",
            "740/740 [==============================] - 34s 46ms/sample - loss: 0.0322\n",
            "Epoch 67/100\n",
            "740/740 [==============================] - 76s 103ms/sample - loss: 0.0348\n",
            "Epoch 68/100\n",
            "740/740 [==============================] - 45s 61ms/sample - loss: 0.0304\n",
            "Epoch 69/100\n",
            "740/740 [==============================] - 54s 74ms/sample - loss: 0.0303\n",
            "Epoch 70/100\n",
            "740/740 [==============================] - 51s 69ms/sample - loss: 0.0314\n",
            "Epoch 71/100\n",
            "740/740 [==============================] - 54s 73ms/sample - loss: 0.0293\n",
            "Epoch 72/100\n",
            "740/740 [==============================] - 37s 49ms/sample - loss: 0.0348\n",
            "Epoch 73/100\n",
            "740/740 [==============================] - 34s 46ms/sample - loss: 0.0313\n",
            "Epoch 74/100\n",
            "740/740 [==============================] - 31s 41ms/sample - loss: 0.0297\n",
            "Epoch 75/100\n",
            "740/740 [==============================] - 28s 38ms/sample - loss: 0.0329\n",
            "Epoch 76/100\n",
            "740/740 [==============================] - 28s 38ms/sample - loss: 0.0319\n",
            "Epoch 77/100\n",
            "740/740 [==============================] - 31s 42ms/sample - loss: 0.0327\n",
            "Epoch 78/100\n",
            "740/740 [==============================] - 33s 44ms/sample - loss: 0.0371\n",
            "Epoch 79/100\n",
            "740/740 [==============================] - 27s 37ms/sample - loss: 0.0319\n",
            "Epoch 80/100\n",
            "740/740 [==============================] - 21s 28ms/sample - loss: 0.0304\n",
            "Epoch 81/100\n",
            "740/740 [==============================] - 23s 31ms/sample - loss: 0.0305\n",
            "Epoch 82/100\n",
            "740/740 [==============================] - 42s 57ms/sample - loss: 0.0314\n",
            "Epoch 83/100\n",
            "740/740 [==============================] - 24s 33ms/sample - loss: 0.0287\n",
            "Epoch 84/100\n",
            "740/740 [==============================] - 36s 49ms/sample - loss: 0.0275\n",
            "Epoch 85/100\n",
            "740/740 [==============================] - 27s 36ms/sample - loss: 0.0288\n",
            "Epoch 86/100\n",
            "740/740 [==============================] - 68s 92ms/sample - loss: 0.0248\n",
            "Epoch 87/100\n",
            "740/740 [==============================] - 88s 118ms/sample - loss: 0.0258\n",
            "Epoch 88/100\n",
            "740/740 [==============================] - 38s 52ms/sample - loss: 0.0276\n",
            "Epoch 89/100\n",
            "740/740 [==============================] - 34s 46ms/sample - loss: 0.0284\n",
            "Epoch 90/100\n",
            "740/740 [==============================] - 49s 66ms/sample - loss: 0.0273\n",
            "Epoch 91/100\n",
            "740/740 [==============================] - 31s 42ms/sample - loss: 0.0272\n",
            "Epoch 92/100\n",
            "740/740 [==============================] - 25s 34ms/sample - loss: 0.0282\n",
            "Epoch 93/100\n",
            "740/740 [==============================] - 37s 50ms/sample - loss: 0.0276\n",
            "Epoch 94/100\n",
            "740/740 [==============================] - 43s 57ms/sample - loss: 0.0271\n",
            "Epoch 95/100\n",
            "740/740 [==============================] - 64s 87ms/sample - loss: 0.0270\n",
            "Epoch 96/100\n",
            "740/740 [==============================] - 65s 88ms/sample - loss: 0.0281\n",
            "Epoch 97/100\n",
            "740/740 [==============================] - 54s 73ms/sample - loss: 0.0296\n",
            "Epoch 98/100\n",
            "740/740 [==============================] - 30s 40ms/sample - loss: 0.0259\n",
            "Epoch 99/100\n",
            "740/740 [==============================] - 36s 49ms/sample - loss: 0.0250\n",
            "Epoch 100/100\n",
            "740/740 [==============================] - 72s 97ms/sample - loss: 0.0255\n"
          ]
        },
        {
          "data": {
            "text/plain": [
              "<tensorflow.python.keras.callbacks.History at 0x7f8d5eed5a58>"
            ]
          },
          "execution_count": 170,
          "metadata": {},
          "output_type": "execute_result"
        }
      ],
      "source": [
        "model = Sequential()\n",
        "#Adding the first LSTM layer and some Dropout regularisation\n",
        "model.add(LSTM(units = 50, return_sequences = True, input_shape = (X_train.shape[1], 2)))\n",
        "model.add(Dropout(0.2))\n",
        "# Adding a second LSTM layer and some Dropout regularisation\n",
        "model.add(LSTM(units = 50, return_sequences = True))\n",
        "model.add(Dropout(0.2))\n",
        "# Adding a third LSTM layer and some Dropout regularisation\n",
        "model.add(LSTM(units = 50, return_sequences = True))\n",
        "model.add(Dropout(0.2))\n",
        "# Adding a fourth LSTM layer and some Dropout regularisation\n",
        "model.add(LSTM(units = 50))\n",
        "model.add(Dropout(0.2))\n",
        "# Adding the output layer\n",
        "model.add(Dense(units = 1))\n",
        "\n",
        "# Compiling the RNN\n",
        "model.compile(optimizer = 'adam', loss = 'mean_squared_error')\n",
        "\n",
        "# Fitting the RNN to the Training set\n",
        "model.fit(X_train, y_train, epochs = 100, batch_size = 32)"
      ]
    },
    {
      "cell_type": "code",
      "execution_count": null,
      "metadata": {
        "id": "9z36RkLklqON",
        "outputId": "90eb334c-433c-4810-fc86-ae047baa0c45"
      },
      "outputs": [
        {
          "name": "stdout",
          "output_type": "stream",
          "text": [
            "(459, 60, 2)\n"
          ]
        }
      ],
      "source": [
        "dataset_train = df.iloc[:800, 4:6]\n",
        "dataset_test = df.iloc[800:, 4:6]\n",
        "\n",
        "dataset_total = pd.concat((dataset_train, dataset_test), axis = 0)\n",
        "dummy = dataset_total[len(dataset_total) - len(dataset_test) - 60:].values\n",
        "\n",
        "inputs = dummy.reshape(-1,2)\n",
        "inputs_transformed = scaler.transform(inputs)\n",
        "\n",
        "X_test = []\n",
        "\n",
        "for i in range(60, 519):\n",
        "    X_test.append(inputs_transformed[i-60:i, 0:2])\n",
        "    \n",
        "X_test = np.array(X_test)\n",
        "X_test = np.reshape(X_test, (X_test.shape[0], X_test.shape[1], 2))\n",
        "print(X_test.shape)"
      ]
    },
    {
      "cell_type": "code",
      "execution_count": null,
      "metadata": {
        "id": "kK70D1ejlqON",
        "outputId": "4cc9f7f5-c001-4bb6-e9ba-7b5e8fef6c86"
      },
      "outputs": [
        {
          "data": {
            "text/plain": [
              "array([59.11299538, 59.14643097, 59.28530462, 59.46245949, 59.59817376,\n",
              "       59.5476251 , 59.45319925, 59.36360302, 59.27709195, 59.18074868,\n",
              "       59.07682903, 59.04303256, 59.04814544, 58.619047  , 58.26038904,\n",
              "       58.0750106 , 57.9467801 , 57.68182113, 57.07231006, 56.10445646,\n",
              "       55.17330898, 54.41921066, 53.81408476, 53.40609052, 53.16208119,\n",
              "       53.1828546 , 53.31676295, 53.33645288, 53.14550374, 52.7980619 ,\n",
              "       52.71333249, 52.8619253 , 53.3243372 , 54.05526097, 54.9044276 ,\n",
              "       55.63999582, 56.18953951, 56.63844277, 57.0327862 , 57.32641957,\n",
              "       57.53022248, 57.75815139, 58.07405394, 58.44840869, 58.68302335,\n",
              "       58.84687207, 59.08321792, 59.46858487, 60.0069732 , 60.59658837,\n",
              "       61.10383983, 61.42193726, 61.48397543, 61.63114312, 61.91999929,\n",
              "       62.33065555, 62.70987329, 63.09900426, 63.56302401, 64.02793779,\n",
              "       64.46578511, 64.78121205, 65.04240938, 65.27670709, 65.47624756,\n",
              "       65.72153159, 65.88411417, 65.80485877, 65.4704463 , 65.02083098,\n",
              "       64.43767142, 63.93415198, 63.33972557, 63.13485296, 63.18423319,\n",
              "       63.51965953, 63.95193981, 64.09556614, 63.85300367, 63.58484618,\n",
              "       63.59864802, 63.8166014 , 64.09642271, 64.37619909, 64.60720123,\n",
              "       64.64100247, 64.59113131, 64.5378965 , 64.50705037, 64.06758183,\n",
              "       63.26927761, 62.26932144, 61.38954208, 60.86772277, 60.67436282,\n",
              "       60.69015085, 60.90854613, 61.1887753 , 61.46702714, 61.68668481,\n",
              "       61.89151044, 62.02177002, 61.96333858, 61.73297784, 61.49306204,\n",
              "       61.30548021, 61.13717806, 60.93579234, 60.75903478, 60.60980669,\n",
              "       60.45549499, 60.18307642, 59.8688465 , 59.6338502 , 59.49160235,\n",
              "       59.5812997 , 59.87684027, 59.99568592, 59.76539872, 59.20259535,\n",
              "       58.50003657, 57.8549243 , 57.45000701, 57.34476404, 57.34457645,\n",
              "       57.38083166, 57.41584558, 57.2683279 , 56.8764204 , 56.3166821 ,\n",
              "       55.79392655, 55.39193875, 55.01207168, 54.55779361, 54.15310681,\n",
              "       53.90092165, 53.81794482, 53.84200838, 53.96870614, 54.0864104 ,\n",
              "       54.18248931, 54.00797986, 53.63250783, 53.17476048, 52.72920001,\n",
              "       52.40110706, 52.10806113, 51.82338466, 51.54324127, 51.39220794,\n",
              "       51.32287036, 51.31904013, 51.22778591, 51.04432692, 50.7686911 ,\n",
              "       50.33468304, 49.67050216, 48.98893962, 48.41242122, 47.94098136,\n",
              "       47.68559073, 47.73920548, 47.99734626, 48.22691715, 48.30521317,\n",
              "       48.20929342, 47.97403156, 47.54734896, 47.07111795, 46.66485622,\n",
              "       46.33998519, 45.90865954, 45.32116265, 44.69248901, 44.00684514,\n",
              "       43.38734323, 42.8618525 , 42.43274045, 42.11857998, 41.88888653,\n",
              "       41.68171997, 41.40923603, 41.26423292, 41.29614671, 41.53612311,\n",
              "       41.86742728, 42.26520091, 42.69899755, 43.02979922, 43.25152614,\n",
              "       43.39103371, 43.56782055, 43.79357636, 44.04572113, 44.22207764,\n",
              "       44.31566123, 44.36922218, 44.37567439, 44.34485413, 44.3364137 ,\n",
              "       44.37662833, 44.4910175 , 44.63037731, 44.85269117, 45.1184696 ,\n",
              "       45.34664669, 45.49814014, 45.6572549 , 45.83896465, 46.0780661 ,\n",
              "       46.41970701, 46.8028944 , 47.17347492, 47.47239889, 47.71743711,\n",
              "       47.89261975, 48.03933464, 48.21569933, 48.06874135, 47.56642778,\n",
              "       46.99284168, 46.62411661, 46.50470172, 46.48065029, 46.47328499,\n",
              "       46.39830564, 46.28891224, 46.21249007, 46.23562705, 46.30346035,\n",
              "       46.30680902, 46.28689269, 46.11720968, 45.77172237, 45.39087319,\n",
              "       45.15462471, 45.07709335, 45.05205257, 45.03704349, 44.9073511 ,\n",
              "       44.71017879, 44.50278481, 44.3439853 , 44.3105858 , 44.42116056,\n",
              "       44.60708372, 44.7545367 , 44.90775419, 45.04904367, 45.19914127,\n",
              "       45.38178181, 45.67954621, 46.04108097, 46.37944131, 46.6170189 ,\n",
              "       46.7574879 , 46.81451873, 46.84607708, 46.82419568, 46.76313188,\n",
              "       46.51195467, 46.16507287, 45.98856179, 46.02739012, 46.19112002,\n",
              "       46.42294878, 46.64644945, 46.71970816, 46.62097221, 46.48449874,\n",
              "       46.41230903, 46.46178051, 46.6011553 , 46.79948173, 47.09069382,\n",
              "       47.43529529, 47.78005744, 48.09238424, 48.29601148, 48.34706605,\n",
              "       48.30071174, 48.21241943, 48.54327693, 49.49029925, 50.77641047,\n",
              "       51.96612445, 52.82918099, 53.34116998, 53.57417836, 53.68134032,\n",
              "       53.76323114, 53.95494994, 54.34000475, 54.86153447, 55.48488228,\n",
              "       56.16618651, 56.79363521, 57.35164147, 57.87305225, 58.34747241,\n",
              "       58.87086562, 59.3721844 , 59.85252941, 60.10752443, 60.23070265,\n",
              "       60.27858355, 60.37232441, 60.55109472, 60.86173085, 61.27151759,\n",
              "       61.67434282, 61.99717523, 62.30074906, 62.62892926, 63.04118903,\n",
              "       63.50288896, 63.98689994, 64.40451772, 64.90112807, 65.38710277,\n",
              "       65.87966926, 66.3875131 , 66.84146779, 67.27710491, 67.68972624,\n",
              "       68.06720905, 68.37358547, 68.50419163, 68.54254128, 68.64886246,\n",
              "       68.90273467, 69.26605476, 69.72678168, 70.27776871, 70.74091691,\n",
              "       71.06350556, 71.47367293, 71.92850462, 72.27159925, 72.48793889,\n",
              "       72.6120874 , 72.81703558, 73.10002581, 73.37821977, 73.59362658,\n",
              "       73.73416163, 73.843506  , 73.95574012, 74.14705124, 74.34415682,\n",
              "       74.60004858, 74.85972887, 75.02826661, 75.13856561, 75.19966685,\n",
              "       75.23554348, 75.25246248, 75.25454059, 75.25614751, 75.25256325,\n",
              "       75.25672764, 75.26651626, 75.27308422, 75.275944  , 75.26776911,\n",
              "       75.25113336, 75.22777849, 75.18154129, 75.1249122 , 75.0844109 ,\n",
              "       75.05041629, 75.02353436, 74.99437005, 74.9592002 , 74.87864564,\n",
              "       74.79465934, 74.70018991, 74.54003269, 74.32582426, 73.8326116 ,\n",
              "       73.00618553, 71.45010153, 70.37799175, 69.93776809, 69.96614528,\n",
              "       70.65178574, 71.55515079, 72.30837058, 72.81799838, 73.09958731,\n",
              "       73.33716967, 73.35163471, 73.12291767, 73.01891972, 73.19882168,\n",
              "       73.54723686, 73.8796686 , 74.19778782, 74.56785563, 74.91103605,\n",
              "       75.17963886, 75.37527506, 75.50673643, 75.5817076 , 75.58909946,\n",
              "       75.58515296, 75.55167719, 75.51806252, 75.50288117, 75.48609018,\n",
              "       75.46829417, 75.42688728, 75.37334539, 75.32933609, 75.28794554,\n",
              "       75.25248154, 75.2205201 , 75.20211128, 75.18365753, 75.17006404,\n",
              "       75.15117996, 75.13051737, 75.1104349 , 75.0923393 , 75.07711166,\n",
              "       75.06471383, 75.05466102, 75.04834499, 75.04398042, 75.03801165,\n",
              "       75.03063614, 75.02767014, 75.03363755, 75.04123095, 75.05444858,\n",
              "       75.07372077, 75.10799456, 75.155264  , 75.20000866, 75.24252951,\n",
              "       75.27784099, 75.31582704, 75.35703919, 75.39600165, 75.4351071 ,\n",
              "       75.46584838, 75.48968669, 75.50940692, 75.52537266, 75.53387574,\n",
              "       75.53563246, 75.53350533, 75.53692617, 75.54159851, 75.54583371,\n",
              "       75.55325552, 75.56905376, 75.58620018, 75.59977324])"
            ]
          },
          "execution_count": 172,
          "metadata": {},
          "output_type": "execute_result"
        }
      ],
      "source": [
        "predicted_stock_price = model.predict(X_test)\n",
        "predicted_stock_price\n",
        "# Get something which has as many features as dataset\n",
        "predicted_stock_price_extended = np.zeros((len(predicted_stock_price),2))\n",
        "# predicted_stock_price_extended[:,1]\n",
        "# predicted_stock_price\n",
        "# # # Put the predictions there\n",
        "predicted_stock_price_extended[:,0] = predicted_stock_price[:,0]\n",
        "# predicted_stock_price_extended\n",
        "# # # Inverse transform it and select the 3rd column.\n",
        "predicted_stock_price = scaler.inverse_transform(predicted_stock_price_extended)[:,0]\n",
        "\n",
        "predicted_stock_price"
      ]
    },
    {
      "cell_type": "code",
      "execution_count": null,
      "metadata": {
        "id": "OMAfomMLlqON",
        "outputId": "07fb9305-0fc4-4ef6-c6dc-6f2c4733d91e"
      },
      "outputs": [
        {
          "data": {
            "image/png": "[encoded data removed]",
            "text/plain": [
              "<Figure size 1600x800 with 1 Axes>"
            ]
          },
          "metadata": {
            "needs_background": "light"
          },
          "output_type": "display_data"
        }
      ],
      "source": [
        "from matplotlib.pyplot import figure\n",
        "\n",
        "\n",
        "\n",
        "figure(figsize=(20, 10), dpi=80)\n",
        "\n",
        "# Visualising the results\n",
        "plt.plot(df.loc[800:, 'Date'],dataset_test.values, color = 'red', label = 'Real TESLA Stock Price')\n",
        "plt.plot(df.loc[800:, 'Date'],predicted_stock_price, color = 'blue', label = 'Predicted TESLA Stock Price')\n",
        "plt.xticks(np.arange(0,459,50))\n",
        "plt.title('TESLA Stock Price Prediction')\n",
        "plt.xlabel('Time')\n",
        "plt.ylabel('TESLA Stock Price')\n",
        "plt.legend()\n",
        "plt.show()"
      ]
    },
    {
      "cell_type": "code",
      "execution_count": null,
      "metadata": {
        "id": "ZOkVXrHnlqOO",
        "outputId": "55b0120c-5bc6-43dd-f027-96aace2810b8"
      },
      "outputs": [
        {
          "ename": "IndexError",
          "evalue": "too many indices for array",
          "output_type": "error",
          "traceback": [
            "\u001b[0;31m---------------------------------------------------------------------------\u001b[0m",
            "\u001b[0;31mIndexError\u001b[0m                                Traceback (most recent call last)",
            "\u001b[0;32m<ipython-input-174-6acaec74b53d>\u001b[0m in \u001b[0;36m<module>\u001b[0;34m\u001b[0m\n\u001b[1;32m      1\u001b[0m \u001b[0;31m# calculate root mean squared error\u001b[0m\u001b[0;34m\u001b[0m\u001b[0;34m\u001b[0m\u001b[0;34m\u001b[0m\u001b[0m\n\u001b[0;32m----> 2\u001b[0;31m \u001b[0mtestScoreRMSE\u001b[0m \u001b[0;34m=\u001b[0m \u001b[0mnp\u001b[0m\u001b[0;34m.\u001b[0m\u001b[0msqrt\u001b[0m\u001b[0;34m(\u001b[0m\u001b[0mmean_squared_error\u001b[0m\u001b[0;34m(\u001b[0m\u001b[0mdataset_test\u001b[0m\u001b[0;34m.\u001b[0m\u001b[0mvalues\u001b[0m\u001b[0;34m,\u001b[0m \u001b[0mpredicted_stock_price\u001b[0m\u001b[0;34m[\u001b[0m\u001b[0;34m:\u001b[0m\u001b[0;34m,\u001b[0m\u001b[0;36m0\u001b[0m\u001b[0;34m]\u001b[0m\u001b[0;34m.\u001b[0m\u001b[0mreshape\u001b[0m\u001b[0;34m(\u001b[0m\u001b[0;34m-\u001b[0m\u001b[0;36m1\u001b[0m\u001b[0;34m,\u001b[0m\u001b[0;36m1\u001b[0m\u001b[0;34m)\u001b[0m\u001b[0;34m)\u001b[0m\u001b[0;34m)\u001b[0m\u001b[0;34m\u001b[0m\u001b[0;34m\u001b[0m\u001b[0m\n\u001b[0m\u001b[1;32m      3\u001b[0m \u001b[0mprint\u001b[0m\u001b[0;34m(\u001b[0m\u001b[0;34m'Test Score: %.2f RMSE'\u001b[0m \u001b[0;34m%\u001b[0m \u001b[0;34m(\u001b[0m\u001b[0mtestScoreRMSE\u001b[0m\u001b[0;34m)\u001b[0m\u001b[0;34m)\u001b[0m\u001b[0;34m\u001b[0m\u001b[0;34m\u001b[0m\u001b[0m\n\u001b[1;32m      4\u001b[0m \u001b[0;34m\u001b[0m\u001b[0m\n\u001b[1;32m      5\u001b[0m \u001b[0mtestScoreMAE\u001b[0m \u001b[0;34m=\u001b[0m \u001b[0mmean_absolute_error\u001b[0m\u001b[0;34m(\u001b[0m\u001b[0mdataset_test\u001b[0m\u001b[0;34m.\u001b[0m\u001b[0mvalues\u001b[0m\u001b[0;34m,\u001b[0m \u001b[0mpredicted_stock_price\u001b[0m\u001b[0;34m[\u001b[0m\u001b[0;34m:\u001b[0m\u001b[0;34m,\u001b[0m\u001b[0;36m0\u001b[0m\u001b[0;34m]\u001b[0m\u001b[0;34m.\u001b[0m\u001b[0mreshape\u001b[0m\u001b[0;34m(\u001b[0m\u001b[0;34m-\u001b[0m\u001b[0;36m1\u001b[0m\u001b[0;34m,\u001b[0m\u001b[0;36m1\u001b[0m\u001b[0;34m)\u001b[0m\u001b[0;34m)\u001b[0m\u001b[0;34m\u001b[0m\u001b[0;34m\u001b[0m\u001b[0m\n",
            "\u001b[0;31mIndexError\u001b[0m: too many indices for array"
          ]
        }
      ],
      "source": [
        "# calculate root mean squared error\n",
        "testScoreRMSE = np.sqrt(mean_squared_error(dataset_test.values, predicted_stock_price[:,0].reshape(-1,1)))\n",
        "print('Test Score: %.2f RMSE' % (testScoreRMSE))\n",
        "\n",
        "testScoreMAE = mean_absolute_error(dataset_test.values, predicted_stock_price[:,0].reshape(-1,1))\n",
        "print('Test Score: %.2f MSE' % (testScoreMAE))\n"
      ]
    },
    {
      "cell_type": "code",
      "execution_count": null,
      "metadata": {
        "id": "IR9f4JaBlqOO"
      },
      "outputs": [],
      "source": [
        "model.save('Saved_model_2/Trained_model_2.h5')"
      ]
    },
    {
      "cell_type": "code",
      "execution_count": null,
      "metadata": {
        "id": "gTVytw87lqOO"
      },
      "outputs": [],
      "source": [
        ""
      ]
    }
  ],
  "metadata": {
    "interpreter": {
      "hash": "6ffeae461081b98ae86352a0851f1155f0b2a8eafa30374dc3cd8f018d3c1071"
    },
    "kernelspec": {
      "display_name": "Python 3.6.10 64-bit ('PythonData': conda)",
      "language": "python",
      "name": "python3"
    },
    "language_info": {
      "codemirror_mode": {
        "name": "ipython",
        "version": 3
      },
      "file_extension": ".py",
      "mimetype": "text/x-python",
      "name": "python",
      "nbconvert_exporter": "python",
      "pygments_lexer": "ipython3",
      "version": "3.6.10"
    },
    "orig_nbformat": 4,
    "colab": {
      "name": "Model_Testing.ipynb",
      "provenance": []
    },
    "accelerator": "GPU"
  },
  "nbformat": 4,
  "nbformat_minor": 0
}